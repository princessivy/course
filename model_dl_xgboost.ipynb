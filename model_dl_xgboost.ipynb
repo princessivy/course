{
  "nbformat": 4,
  "nbformat_minor": 0,
  "metadata": {
    "colab": {
      "name": "model_dl_xgboost.ipynb",
      "provenance": [],
      "collapsed_sections": [],
      "mount_file_id": "1zOl41IOHqYwmI76i58YvgyRe3Vklps9p",
      "authorship_tag": "ABX9TyNnsAD6OY1EawVBqbYjr1tp",
      "include_colab_link": true
    },
    "kernelspec": {
      "name": "python3",
      "display_name": "Python 3"
    },
    "language_info": {
      "name": "python"
    }
  },
  "cells": [
    {
      "cell_type": "markdown",
      "metadata": {
        "id": "view-in-github",
        "colab_type": "text"
      },
      "source": [
        "<a href=\"https://colab.research.google.com/github/princessivy/course/blob/main/model_dl_xgboost.ipynb\" target=\"_parent\"><img src=\"https://colab.research.google.com/assets/colab-badge.svg\" alt=\"Open In Colab\"/></a>"
      ]
    },
    {
      "cell_type": "markdown",
      "source": [
        "# Load Packages"
      ],
      "metadata": {
        "id": "ff2rGOEM7G83"
      }
    },
    {
      "cell_type": "code",
      "source": [
        "!pip install ndjson --quiet\n",
        "!pip install langdetect --quiet"
      ],
      "metadata": {
        "colab": {
          "base_uri": "https://localhost:8080/"
        },
        "id": "G_juXh9j7JLy",
        "outputId": "2d921440-708b-4048-f943-8a92e7ff3bbf"
      },
      "execution_count": 2,
      "outputs": [
        {
          "output_type": "stream",
          "name": "stdout",
          "text": [
            "\u001b[?25l\r\u001b[K     |▍                               | 10 kB 28.5 MB/s eta 0:00:01\r\u001b[K     |▊                               | 20 kB 14.0 MB/s eta 0:00:01\r\u001b[K     |█                               | 30 kB 9.5 MB/s eta 0:00:01\r\u001b[K     |█▍                              | 40 kB 3.7 MB/s eta 0:00:01\r\u001b[K     |█▊                              | 51 kB 3.6 MB/s eta 0:00:01\r\u001b[K     |██                              | 61 kB 3.6 MB/s eta 0:00:01\r\u001b[K     |██▍                             | 71 kB 4.2 MB/s eta 0:00:01\r\u001b[K     |██▊                             | 81 kB 3.4 MB/s eta 0:00:01\r\u001b[K     |███                             | 92 kB 3.8 MB/s eta 0:00:01\r\u001b[K     |███▍                            | 102 kB 4.2 MB/s eta 0:00:01\r\u001b[K     |███▊                            | 112 kB 4.2 MB/s eta 0:00:01\r\u001b[K     |████                            | 122 kB 4.2 MB/s eta 0:00:01\r\u001b[K     |████▍                           | 133 kB 4.2 MB/s eta 0:00:01\r\u001b[K     |████▊                           | 143 kB 4.2 MB/s eta 0:00:01\r\u001b[K     |█████                           | 153 kB 4.2 MB/s eta 0:00:01\r\u001b[K     |█████▍                          | 163 kB 4.2 MB/s eta 0:00:01\r\u001b[K     |█████▊                          | 174 kB 4.2 MB/s eta 0:00:01\r\u001b[K     |██████                          | 184 kB 4.2 MB/s eta 0:00:01\r\u001b[K     |██████▍                         | 194 kB 4.2 MB/s eta 0:00:01\r\u001b[K     |██████▊                         | 204 kB 4.2 MB/s eta 0:00:01\r\u001b[K     |███████                         | 215 kB 4.2 MB/s eta 0:00:01\r\u001b[K     |███████▍                        | 225 kB 4.2 MB/s eta 0:00:01\r\u001b[K     |███████▊                        | 235 kB 4.2 MB/s eta 0:00:01\r\u001b[K     |████████                        | 245 kB 4.2 MB/s eta 0:00:01\r\u001b[K     |████████▍                       | 256 kB 4.2 MB/s eta 0:00:01\r\u001b[K     |████████▊                       | 266 kB 4.2 MB/s eta 0:00:01\r\u001b[K     |█████████                       | 276 kB 4.2 MB/s eta 0:00:01\r\u001b[K     |█████████▍                      | 286 kB 4.2 MB/s eta 0:00:01\r\u001b[K     |█████████▊                      | 296 kB 4.2 MB/s eta 0:00:01\r\u001b[K     |██████████                      | 307 kB 4.2 MB/s eta 0:00:01\r\u001b[K     |██████████▍                     | 317 kB 4.2 MB/s eta 0:00:01\r\u001b[K     |██████████▊                     | 327 kB 4.2 MB/s eta 0:00:01\r\u001b[K     |███████████                     | 337 kB 4.2 MB/s eta 0:00:01\r\u001b[K     |███████████▍                    | 348 kB 4.2 MB/s eta 0:00:01\r\u001b[K     |███████████▊                    | 358 kB 4.2 MB/s eta 0:00:01\r\u001b[K     |████████████                    | 368 kB 4.2 MB/s eta 0:00:01\r\u001b[K     |████████████▍                   | 378 kB 4.2 MB/s eta 0:00:01\r\u001b[K     |████████████▊                   | 389 kB 4.2 MB/s eta 0:00:01\r\u001b[K     |█████████████                   | 399 kB 4.2 MB/s eta 0:00:01\r\u001b[K     |█████████████▍                  | 409 kB 4.2 MB/s eta 0:00:01\r\u001b[K     |█████████████▊                  | 419 kB 4.2 MB/s eta 0:00:01\r\u001b[K     |██████████████                  | 430 kB 4.2 MB/s eta 0:00:01\r\u001b[K     |██████████████▍                 | 440 kB 4.2 MB/s eta 0:00:01\r\u001b[K     |██████████████▊                 | 450 kB 4.2 MB/s eta 0:00:01\r\u001b[K     |███████████████                 | 460 kB 4.2 MB/s eta 0:00:01\r\u001b[K     |███████████████▍                | 471 kB 4.2 MB/s eta 0:00:01\r\u001b[K     |███████████████▊                | 481 kB 4.2 MB/s eta 0:00:01\r\u001b[K     |████████████████                | 491 kB 4.2 MB/s eta 0:00:01\r\u001b[K     |████████████████▍               | 501 kB 4.2 MB/s eta 0:00:01\r\u001b[K     |████████████████▊               | 512 kB 4.2 MB/s eta 0:00:01\r\u001b[K     |█████████████████               | 522 kB 4.2 MB/s eta 0:00:01\r\u001b[K     |█████████████████▍              | 532 kB 4.2 MB/s eta 0:00:01\r\u001b[K     |█████████████████▊              | 542 kB 4.2 MB/s eta 0:00:01\r\u001b[K     |██████████████████              | 552 kB 4.2 MB/s eta 0:00:01\r\u001b[K     |██████████████████▍             | 563 kB 4.2 MB/s eta 0:00:01\r\u001b[K     |██████████████████▊             | 573 kB 4.2 MB/s eta 0:00:01\r\u001b[K     |███████████████████             | 583 kB 4.2 MB/s eta 0:00:01\r\u001b[K     |███████████████████▍            | 593 kB 4.2 MB/s eta 0:00:01\r\u001b[K     |███████████████████▊            | 604 kB 4.2 MB/s eta 0:00:01\r\u001b[K     |████████████████████            | 614 kB 4.2 MB/s eta 0:00:01\r\u001b[K     |████████████████████▍           | 624 kB 4.2 MB/s eta 0:00:01\r\u001b[K     |████████████████████▊           | 634 kB 4.2 MB/s eta 0:00:01\r\u001b[K     |█████████████████████           | 645 kB 4.2 MB/s eta 0:00:01\r\u001b[K     |█████████████████████▍          | 655 kB 4.2 MB/s eta 0:00:01\r\u001b[K     |█████████████████████▊          | 665 kB 4.2 MB/s eta 0:00:01\r\u001b[K     |██████████████████████          | 675 kB 4.2 MB/s eta 0:00:01\r\u001b[K     |██████████████████████▍         | 686 kB 4.2 MB/s eta 0:00:01\r\u001b[K     |██████████████████████▊         | 696 kB 4.2 MB/s eta 0:00:01\r\u001b[K     |███████████████████████         | 706 kB 4.2 MB/s eta 0:00:01\r\u001b[K     |███████████████████████▍        | 716 kB 4.2 MB/s eta 0:00:01\r\u001b[K     |███████████████████████▊        | 727 kB 4.2 MB/s eta 0:00:01\r\u001b[K     |████████████████████████        | 737 kB 4.2 MB/s eta 0:00:01\r\u001b[K     |████████████████████████▍       | 747 kB 4.2 MB/s eta 0:00:01\r\u001b[K     |████████████████████████▊       | 757 kB 4.2 MB/s eta 0:00:01\r\u001b[K     |█████████████████████████       | 768 kB 4.2 MB/s eta 0:00:01\r\u001b[K     |█████████████████████████▍      | 778 kB 4.2 MB/s eta 0:00:01\r\u001b[K     |█████████████████████████▊      | 788 kB 4.2 MB/s eta 0:00:01\r\u001b[K     |██████████████████████████      | 798 kB 4.2 MB/s eta 0:00:01\r\u001b[K     |██████████████████████████▍     | 808 kB 4.2 MB/s eta 0:00:01\r\u001b[K     |██████████████████████████▊     | 819 kB 4.2 MB/s eta 0:00:01\r\u001b[K     |███████████████████████████     | 829 kB 4.2 MB/s eta 0:00:01\r\u001b[K     |███████████████████████████▍    | 839 kB 4.2 MB/s eta 0:00:01\r\u001b[K     |███████████████████████████▊    | 849 kB 4.2 MB/s eta 0:00:01\r\u001b[K     |████████████████████████████    | 860 kB 4.2 MB/s eta 0:00:01\r\u001b[K     |████████████████████████████▍   | 870 kB 4.2 MB/s eta 0:00:01\r\u001b[K     |████████████████████████████▊   | 880 kB 4.2 MB/s eta 0:00:01\r\u001b[K     |█████████████████████████████   | 890 kB 4.2 MB/s eta 0:00:01\r\u001b[K     |█████████████████████████████▍  | 901 kB 4.2 MB/s eta 0:00:01\r\u001b[K     |█████████████████████████████▊  | 911 kB 4.2 MB/s eta 0:00:01\r\u001b[K     |██████████████████████████████  | 921 kB 4.2 MB/s eta 0:00:01\r\u001b[K     |██████████████████████████████▍ | 931 kB 4.2 MB/s eta 0:00:01\r\u001b[K     |██████████████████████████████▊ | 942 kB 4.2 MB/s eta 0:00:01\r\u001b[K     |███████████████████████████████ | 952 kB 4.2 MB/s eta 0:00:01\r\u001b[K     |███████████████████████████████▍| 962 kB 4.2 MB/s eta 0:00:01\r\u001b[K     |███████████████████████████████▊| 972 kB 4.2 MB/s eta 0:00:01\r\u001b[K     |████████████████████████████████| 981 kB 4.2 MB/s \n",
            "\u001b[?25h  Building wheel for langdetect (setup.py) ... \u001b[?25l\u001b[?25hdone\n"
          ]
        }
      ]
    },
    {
      "cell_type": "code",
      "source": [
        "import pandas as pd\n",
        "import ndjson\n",
        "import gzip\n",
        "from google.colab import drive\n",
        "from pathlib import Path\n",
        "from xgboost import XGBRegressor\n",
        "from langdetect import detect\n",
        "\n",
        "from sklearn.model_selection import cross_val_score\n"
      ],
      "metadata": {
        "id": "Uqv_-pdt7Ju6"
      },
      "execution_count": 3,
      "outputs": []
    },
    {
      "cell_type": "markdown",
      "source": [
        "# Load Datasets"
      ],
      "metadata": {
        "id": "ndxGGX1-7YuA"
      }
    },
    {
      "cell_type": "code",
      "source": [
        "drive.mount('/gdrive')"
      ],
      "metadata": {
        "colab": {
          "base_uri": "https://localhost:8080/"
        },
        "id": "7iFWbU2N7eK2",
        "outputId": "901cb3cd-c4d9-4bbf-b878-120e0dd25aa4"
      },
      "execution_count": 3,
      "outputs": [
        {
          "output_type": "stream",
          "name": "stdout",
          "text": [
            "Mounted at /gdrive\n"
          ]
        }
      ]
    },
    {
      "cell_type": "code",
      "source": [
        "path_train = Path('/content/drive/MyDrive/Preprocessed_data/de eng_train_preprocessed/df_train_german.ndjson')\n",
        "\n",
        "with open(path_train) as f:\n",
        "    data = ndjson.load(f)\n",
        "df_train = pd.DataFrame(data)"
      ],
      "metadata": {
        "id": "LJk8i3pd7awM"
      },
      "execution_count": 4,
      "outputs": []
    },
    {
      "cell_type": "markdown",
      "source": [
        "# Save Datasets"
      ],
      "metadata": {
        "id": "J-lePcaUFNnK"
      }
    },
    {
      "cell_type": "code",
      "source": [
        "datasaver_to_ndjson(df_train_x, 'df_train_de_sentiment')"
      ],
      "metadata": {
        "id": "MX8e4z-DEeIm"
      },
      "execution_count": 106,
      "outputs": []
    },
    {
      "cell_type": "code",
      "source": [
        "def datasaver_to_ndjson(df, name):\n",
        "  # create flat list in dict form: {'col1': 'value', 'col2': 'value', ...} from df\n",
        "  flat_list_back = []\n",
        "  for i in range(len(df)):\n",
        "    line = df.loc[i].to_dict()\n",
        "    #line['industry'] = str(line['industry']) # use if idustry number (e.g. 13) should be enclosed in '' (e.g. '13')\n",
        "    flat_list_back.append([line])\n",
        "\n",
        "  filename = str(name) + '.ndjson'\n",
        "\n",
        "  # https://stackoverflow.com/questions/21058935/python-json-loads-shows-valueerror-extra-data\n",
        "  with open(filename, mode='w') as f:\n",
        "    for item in flat_list_back:\n",
        "      f.write('{}\\n'.format(ndjson.dumps(item))) "
      ],
      "metadata": {
        "id": "0uUX_aiZCLAM"
      },
      "execution_count": 90,
      "outputs": []
    },
    {
      "cell_type": "markdown",
      "source": [
        "# Build Model"
      ],
      "metadata": {
        "id": "jcFsk_z38MwX"
      }
    },
    {
      "cell_type": "code",
      "source": [
        "hyperparameter tuning: gridsearch(!), randomised search\n",
        "# https://www.kaggle.com/stuarthallows/using-xgboost-with-scikit-learn\n",
        "# https://www.datacamp.com/community/tutorials/xgboost-in-python#apply\n",
        "\n",
        "fastai\n",
        "# https://fastai1.fast.ai/tabular.html\n",
        "\n",
        "mega?\n",
        "# https://towardsdatascience.com/text-classification-with-nlp-tf-idf-vs-word2vec-vs-bert-41ff868d1794\n",
        "\n"
      ],
      "metadata": {
        "id": "VdU5c4jr8L2C"
      },
      "execution_count": null,
      "outputs": []
    },
    {
      "cell_type": "markdown",
      "source": [
        "# XGBoost"
      ],
      "metadata": {
        "id": "vWUhq_XwFb-3"
      }
    },
    {
      "cell_type": "code",
      "source": [
        "import numpy as np\n",
        "\n",
        "from sklearn.metrics import auc, accuracy_score, confusion_matrix, mean_squared_error\n",
        "from sklearn.model_selection import cross_val_score, GridSearchCV, KFold, RandomizedSearchCV, train_test_split\n",
        "\n",
        "import xgboost as xgb\n",
        "\n",
        "from sklearn.feature_extraction.text import TfidfVectorizer\n",
        "\n",
        "# einlesen\n",
        "from sklearn.compose import ColumnTransformer"
      ],
      "metadata": {
        "id": "KFUCFC1cisq_"
      },
      "execution_count": null,
      "outputs": []
    },
    {
      "cell_type": "code",
      "source": [
        "X = df_train_x[['concatenated', 'sentiment_analysis']]\n",
        "y = df_train_x['industry']"
      ],
      "metadata": {
        "id": "VOY0IABvFcv6"
      },
      "execution_count": 150,
      "outputs": []
    },
    {
      "cell_type": "code",
      "source": [
        "# wende tfidf an\n",
        "vectorizer = TfidfVectorizer()\n",
        "X = vectorizer.fit_transform(df_train_x['concatenated'])"
      ],
      "metadata": {
        "id": "KlvMJEPmpFFp"
      },
      "execution_count": 157,
      "outputs": []
    },
    {
      "cell_type": "code",
      "source": [
        "train_X, val_X, train_y, val_y = train_test_split(X, y, random_state=42)"
      ],
      "metadata": {
        "id": "_1l80qZ7pfux"
      },
      "execution_count": 178,
      "outputs": []
    },
    {
      "cell_type": "code",
      "source": [
        "xgb_model = xgb.XGBClassifier(objective=\"multi:softprob\", random_state=42)\n",
        "xgb_model.fit(train_X, train_y)\n",
        "\n",
        "y_pred = xgb_model.predict(val_X)"
      ],
      "metadata": {
        "colab": {
          "base_uri": "https://localhost:8080/",
          "height": 436
        },
        "id": "7F8pEoj_nzr4",
        "outputId": "ea3e5cde-deda-4077-f99f-3c8c5e072312"
      },
      "execution_count": 160,
      "outputs": [
        {
          "output_type": "stream",
          "name": "stderr",
          "text": [
            "/usr/local/lib/python3.7/dist-packages/sklearn/preprocessing/_label.py:98: DataConversionWarning: A column-vector y was passed when a 1d array was expected. Please change the shape of y to (n_samples, ), for example using ravel().\n",
            "  y = column_or_1d(y, warn=True)\n",
            "/usr/local/lib/python3.7/dist-packages/sklearn/preprocessing/_label.py:133: DataConversionWarning: A column-vector y was passed when a 1d array was expected. Please change the shape of y to (n_samples, ), for example using ravel().\n",
            "  y = column_or_1d(y, warn=True)\n"
          ]
        },
        {
          "output_type": "error",
          "ename": "ValueError",
          "evalue": "ignored",
          "traceback": [
            "\u001b[0;31m---------------------------------------------------------------------------\u001b[0m",
            "\u001b[0;31mValueError\u001b[0m                                Traceback (most recent call last)",
            "\u001b[0;32m<ipython-input-160-0161594071b7>\u001b[0m in \u001b[0;36m<module>\u001b[0;34m()\u001b[0m\n\u001b[1;32m      4\u001b[0m \u001b[0my_pred\u001b[0m \u001b[0;34m=\u001b[0m \u001b[0mxgb_model\u001b[0m\u001b[0;34m.\u001b[0m\u001b[0mpredict\u001b[0m\u001b[0;34m(\u001b[0m\u001b[0mval_X\u001b[0m\u001b[0;34m)\u001b[0m\u001b[0;34m\u001b[0m\u001b[0;34m\u001b[0m\u001b[0m\n\u001b[1;32m      5\u001b[0m \u001b[0;34m\u001b[0m\u001b[0m\n\u001b[0;32m----> 6\u001b[0;31m \u001b[0mprint\u001b[0m\u001b[0;34m(\u001b[0m\u001b[0mconfusion_matrix\u001b[0m\u001b[0;34m(\u001b[0m\u001b[0mtrain_y\u001b[0m\u001b[0;34m,\u001b[0m \u001b[0mval_y\u001b[0m\u001b[0;34m)\u001b[0m\u001b[0;34m)\u001b[0m\u001b[0;34m\u001b[0m\u001b[0;34m\u001b[0m\u001b[0m\n\u001b[0m",
            "\u001b[0;32m/usr/local/lib/python3.7/dist-packages/sklearn/metrics/_classification.py\u001b[0m in \u001b[0;36mconfusion_matrix\u001b[0;34m(y_true, y_pred, labels, sample_weight, normalize)\u001b[0m\n\u001b[1;32m    305\u001b[0m     \u001b[0;34m(\u001b[0m\u001b[0;36m0\u001b[0m\u001b[0;34m,\u001b[0m \u001b[0;36m2\u001b[0m\u001b[0;34m,\u001b[0m \u001b[0;36m1\u001b[0m\u001b[0;34m,\u001b[0m \u001b[0;36m1\u001b[0m\u001b[0;34m)\u001b[0m\u001b[0;34m\u001b[0m\u001b[0;34m\u001b[0m\u001b[0m\n\u001b[1;32m    306\u001b[0m     \"\"\"\n\u001b[0;32m--> 307\u001b[0;31m     \u001b[0my_type\u001b[0m\u001b[0;34m,\u001b[0m \u001b[0my_true\u001b[0m\u001b[0;34m,\u001b[0m \u001b[0my_pred\u001b[0m \u001b[0;34m=\u001b[0m \u001b[0m_check_targets\u001b[0m\u001b[0;34m(\u001b[0m\u001b[0my_true\u001b[0m\u001b[0;34m,\u001b[0m \u001b[0my_pred\u001b[0m\u001b[0;34m)\u001b[0m\u001b[0;34m\u001b[0m\u001b[0;34m\u001b[0m\u001b[0m\n\u001b[0m\u001b[1;32m    308\u001b[0m     \u001b[0;32mif\u001b[0m \u001b[0my_type\u001b[0m \u001b[0;32mnot\u001b[0m \u001b[0;32min\u001b[0m \u001b[0;34m(\u001b[0m\u001b[0;34m\"binary\"\u001b[0m\u001b[0;34m,\u001b[0m \u001b[0;34m\"multiclass\"\u001b[0m\u001b[0;34m)\u001b[0m\u001b[0;34m:\u001b[0m\u001b[0;34m\u001b[0m\u001b[0;34m\u001b[0m\u001b[0m\n\u001b[1;32m    309\u001b[0m         \u001b[0;32mraise\u001b[0m \u001b[0mValueError\u001b[0m\u001b[0;34m(\u001b[0m\u001b[0;34m\"%s is not supported\"\u001b[0m \u001b[0;34m%\u001b[0m \u001b[0my_type\u001b[0m\u001b[0;34m)\u001b[0m\u001b[0;34m\u001b[0m\u001b[0;34m\u001b[0m\u001b[0m\n",
            "\u001b[0;32m/usr/local/lib/python3.7/dist-packages/sklearn/metrics/_classification.py\u001b[0m in \u001b[0;36m_check_targets\u001b[0;34m(y_true, y_pred)\u001b[0m\n\u001b[1;32m     82\u001b[0m     \u001b[0my_pred\u001b[0m \u001b[0;34m:\u001b[0m \u001b[0marray\u001b[0m \u001b[0;32mor\u001b[0m \u001b[0mindicator\u001b[0m \u001b[0mmatrix\u001b[0m\u001b[0;34m\u001b[0m\u001b[0;34m\u001b[0m\u001b[0m\n\u001b[1;32m     83\u001b[0m     \"\"\"\n\u001b[0;32m---> 84\u001b[0;31m     \u001b[0mcheck_consistent_length\u001b[0m\u001b[0;34m(\u001b[0m\u001b[0my_true\u001b[0m\u001b[0;34m,\u001b[0m \u001b[0my_pred\u001b[0m\u001b[0;34m)\u001b[0m\u001b[0;34m\u001b[0m\u001b[0;34m\u001b[0m\u001b[0m\n\u001b[0m\u001b[1;32m     85\u001b[0m     \u001b[0mtype_true\u001b[0m \u001b[0;34m=\u001b[0m \u001b[0mtype_of_target\u001b[0m\u001b[0;34m(\u001b[0m\u001b[0my_true\u001b[0m\u001b[0;34m)\u001b[0m\u001b[0;34m\u001b[0m\u001b[0;34m\u001b[0m\u001b[0m\n\u001b[1;32m     86\u001b[0m     \u001b[0mtype_pred\u001b[0m \u001b[0;34m=\u001b[0m \u001b[0mtype_of_target\u001b[0m\u001b[0;34m(\u001b[0m\u001b[0my_pred\u001b[0m\u001b[0;34m)\u001b[0m\u001b[0;34m\u001b[0m\u001b[0;34m\u001b[0m\u001b[0m\n",
            "\u001b[0;32m/usr/local/lib/python3.7/dist-packages/sklearn/utils/validation.py\u001b[0m in \u001b[0;36mcheck_consistent_length\u001b[0;34m(*arrays)\u001b[0m\n\u001b[1;32m    332\u001b[0m         raise ValueError(\n\u001b[1;32m    333\u001b[0m             \u001b[0;34m\"Found input variables with inconsistent numbers of samples: %r\"\u001b[0m\u001b[0;34m\u001b[0m\u001b[0;34m\u001b[0m\u001b[0m\n\u001b[0;32m--> 334\u001b[0;31m             \u001b[0;34m%\u001b[0m \u001b[0;34m[\u001b[0m\u001b[0mint\u001b[0m\u001b[0;34m(\u001b[0m\u001b[0ml\u001b[0m\u001b[0;34m)\u001b[0m \u001b[0;32mfor\u001b[0m \u001b[0ml\u001b[0m \u001b[0;32min\u001b[0m \u001b[0mlengths\u001b[0m\u001b[0;34m]\u001b[0m\u001b[0;34m\u001b[0m\u001b[0;34m\u001b[0m\u001b[0m\n\u001b[0m\u001b[1;32m    335\u001b[0m         )\n\u001b[1;32m    336\u001b[0m \u001b[0;34m\u001b[0m\u001b[0m\n",
            "\u001b[0;31mValueError\u001b[0m: Found input variables with inconsistent numbers of samples: [12606, 4203]"
          ]
        }
      ]
    },
    {
      "cell_type": "code",
      "source": [
        "# confusion matrix\n",
        "print(confusion_matrix(y_pred, val_y))"
      ],
      "metadata": {
        "colab": {
          "base_uri": "https://localhost:8080/"
        },
        "id": "PCyxwHPuxf_9",
        "outputId": "b17f43cd-5fe6-48b9-c010-b76ec3ff0ebd"
      },
      "execution_count": 183,
      "outputs": [
        {
          "output_type": "stream",
          "name": "stdout",
          "text": [
            "[[ 19   0   1   0   0   0   0   0   0   0   0   0   1   0   0   1   0   0\n",
            "    0]\n",
            " [  0  82   4   0   0   0   0   0   1   0   0   0   1   0   0   0   0   2\n",
            "    0]\n",
            " [  5   3 241   5   2   2   1   1   7   3   3   2  10  36   2   4   3  18\n",
            "    3]\n",
            " [  0   1   3 103   2   0   2   1   3   0   0   1   3  11   0   3   1   1\n",
            "    0]\n",
            " [  2   0   2   1  56   0   0   0   0   1   4   4   0   1   0   6  17   0\n",
            "    2]\n",
            " [  0   0   0   0   0  40   0   0   0   0   0   0   0   0   0   0   0   0\n",
            "    0]\n",
            " [  0   0   0   0   0   3  56   0   0   0   0   1   3   0   0   7   0   0\n",
            "    0]\n",
            " [  0   0   1   1   0   0   0  35   2   0   0   1   1   1   1   0   0   0\n",
            "    0]\n",
            " [  0   1   3   0   0   0   0   2 172   2   0   0   4  10   1   0   0   0\n",
            "    1]\n",
            " [  1   2   3   0   0   1   0   0   7 114   8   0   1   0   0   0   0   1\n",
            "    0]\n",
            " [  2   1   3   0   3   0   0   0   1   6 128   0   0   1   0   7   7   1\n",
            "    8]\n",
            " [  0   0   0   0   2   0   0   2   2   1   0  90   4   3   1   5  12   1\n",
            "    0]\n",
            " [  1   0  26   4   0   3   2   1   7   3   2   0 338  38   2   7   4   4\n",
            "    1]\n",
            " [ 16   4  87  16  17   0   1   1  14   3   7   8  47 752   4  12  25  10\n",
            "    7]\n",
            " [  0   0   1   0   0   1   0   0   0   0   0   0   0   0  61   0   2   0\n",
            "    1]\n",
            " [  1   0   3   9   5   0  18   0   4   1   9   7  16   9   2 165  20   0\n",
            "    0]\n",
            " [  7   1  14  16  63   2  13   2   4   0  17  38  13   8   5  34 463   7\n",
            "    7]\n",
            " [  0   0  10   0   0   0   0   0   0   0   1   0   2   3   1   0   1  72\n",
            "    1]\n",
            " [  0   0   4   0   2   0   1   1   0   0   6   1   0   1   0   0   7   1\n",
            "   93]]\n"
          ]
        }
      ]
    },
    {
      "cell_type": "code",
      "source": [
        "score = xgb_model.score(val_X, val_y)\n",
        "score"
      ],
      "metadata": {
        "colab": {
          "base_uri": "https://localhost:8080/"
        },
        "id": "V1f1WEf-z-L0",
        "outputId": "11259d14-f15b-4082-dbe4-c3d1bf8194bc"
      },
      "execution_count": 182,
      "outputs": [
        {
          "output_type": "execute_result",
          "data": {
            "text/plain": [
              "0.7328098976921247"
            ]
          },
          "metadata": {},
          "execution_count": 182
        }
      ]
    },
    {
      "cell_type": "code",
      "source": [
        "from sklearn import metrics\n",
        "import numpy as np"
      ],
      "metadata": {
        "id": "_qOLiW79xzoG"
      },
      "execution_count": 167,
      "outputs": []
    },
    {
      "cell_type": "code",
      "source": [
        "logit_report = metrics.classification_report(val_y, y_pred, labels=val_y, output_dict=True)"
      ],
      "metadata": {
        "id": "MfxZZMfCn7fx"
      },
      "execution_count": 179,
      "outputs": []
    },
    {
      "cell_type": "code",
      "source": [
        "pd.DataFrame(logit_report).T"
      ],
      "metadata": {
        "colab": {
          "base_uri": "https://localhost:8080/",
          "height": 738
        },
        "id": "Lg6XRnnQoGM-",
        "outputId": "ce11f052-9aac-4099-9d20-091776eb4879"
      },
      "execution_count": 181,
      "outputs": [
        {
          "output_type": "execute_result",
          "data": {
            "text/html": [
              "\n",
              "  <div id=\"df-fc1ba6ae-e71e-4cd3-866a-a73beee66e91\">\n",
              "    <div class=\"colab-df-container\">\n",
              "      <div>\n",
              "<style scoped>\n",
              "    .dataframe tbody tr th:only-of-type {\n",
              "        vertical-align: middle;\n",
              "    }\n",
              "\n",
              "    .dataframe tbody tr th {\n",
              "        vertical-align: top;\n",
              "    }\n",
              "\n",
              "    .dataframe thead th {\n",
              "        text-align: right;\n",
              "    }\n",
              "</style>\n",
              "<table border=\"1\" class=\"dataframe\">\n",
              "  <thead>\n",
              "    <tr style=\"text-align: right;\">\n",
              "      <th></th>\n",
              "      <th>precision</th>\n",
              "      <th>recall</th>\n",
              "      <th>f1-score</th>\n",
              "      <th>support</th>\n",
              "    </tr>\n",
              "  </thead>\n",
              "  <tbody>\n",
              "    <tr>\n",
              "      <th>43</th>\n",
              "      <td>0.877551</td>\n",
              "      <td>0.767857</td>\n",
              "      <td>0.819048</td>\n",
              "      <td>2.240000e+02</td>\n",
              "    </tr>\n",
              "    <tr>\n",
              "      <th>96</th>\n",
              "      <td>0.729389</td>\n",
              "      <td>0.860412</td>\n",
              "      <td>0.789501</td>\n",
              "      <td>8.740000e+02</td>\n",
              "    </tr>\n",
              "    <tr>\n",
              "      <th>11</th>\n",
              "      <td>0.686610</td>\n",
              "      <td>0.593596</td>\n",
              "      <td>0.636724</td>\n",
              "      <td>4.060000e+02</td>\n",
              "    </tr>\n",
              "    <tr>\n",
              "      <th>25</th>\n",
              "      <td>0.583333</td>\n",
              "      <td>0.368421</td>\n",
              "      <td>0.451613</td>\n",
              "      <td>1.520000e+02</td>\n",
              "    </tr>\n",
              "    <tr>\n",
              "      <th>116</th>\n",
              "      <td>0.924242</td>\n",
              "      <td>0.762500</td>\n",
              "      <td>0.835616</td>\n",
              "      <td>8.000000e+01</td>\n",
              "    </tr>\n",
              "    <tr>\n",
              "      <th>8</th>\n",
              "      <td>0.863636</td>\n",
              "      <td>0.351852</td>\n",
              "      <td>0.500000</td>\n",
              "      <td>5.400000e+01</td>\n",
              "    </tr>\n",
              "    <tr>\n",
              "      <th>135</th>\n",
              "      <td>0.648459</td>\n",
              "      <td>0.823843</td>\n",
              "      <td>0.725705</td>\n",
              "      <td>5.620000e+02</td>\n",
              "    </tr>\n",
              "    <tr>\n",
              "      <th>80</th>\n",
              "      <td>0.762980</td>\n",
              "      <td>0.761261</td>\n",
              "      <td>0.762120</td>\n",
              "      <td>4.440000e+02</td>\n",
              "    </tr>\n",
              "    <tr>\n",
              "      <th>48</th>\n",
              "      <td>0.761905</td>\n",
              "      <td>0.691892</td>\n",
              "      <td>0.725212</td>\n",
              "      <td>1.850000e+02</td>\n",
              "    </tr>\n",
              "    <tr>\n",
              "      <th>137</th>\n",
              "      <td>0.791209</td>\n",
              "      <td>0.610169</td>\n",
              "      <td>0.688995</td>\n",
              "      <td>1.180000e+02</td>\n",
              "    </tr>\n",
              "    <tr>\n",
              "      <th>40</th>\n",
              "      <td>0.800000</td>\n",
              "      <td>0.595745</td>\n",
              "      <td>0.682927</td>\n",
              "      <td>9.400000e+01</td>\n",
              "    </tr>\n",
              "    <tr>\n",
              "      <th>10</th>\n",
              "      <td>0.911111</td>\n",
              "      <td>0.863158</td>\n",
              "      <td>0.886486</td>\n",
              "      <td>9.500000e+01</td>\n",
              "    </tr>\n",
              "    <tr>\n",
              "      <th>44</th>\n",
              "      <td>0.826087</td>\n",
              "      <td>0.850746</td>\n",
              "      <td>0.838235</td>\n",
              "      <td>1.340000e+02</td>\n",
              "    </tr>\n",
              "    <tr>\n",
              "      <th>133</th>\n",
              "      <td>0.613383</td>\n",
              "      <td>0.657371</td>\n",
              "      <td>0.634615</td>\n",
              "      <td>2.510000e+02</td>\n",
              "    </tr>\n",
              "    <tr>\n",
              "      <th>53</th>\n",
              "      <td>0.731707</td>\n",
              "      <td>0.588235</td>\n",
              "      <td>0.652174</td>\n",
              "      <td>1.530000e+02</td>\n",
              "    </tr>\n",
              "    <tr>\n",
              "      <th>42</th>\n",
              "      <td>0.813953</td>\n",
              "      <td>0.760870</td>\n",
              "      <td>0.786517</td>\n",
              "      <td>4.600000e+01</td>\n",
              "    </tr>\n",
              "    <tr>\n",
              "      <th>13</th>\n",
              "      <td>0.762963</td>\n",
              "      <td>0.664516</td>\n",
              "      <td>0.710345</td>\n",
              "      <td>1.550000e+02</td>\n",
              "    </tr>\n",
              "    <tr>\n",
              "      <th>144</th>\n",
              "      <td>0.794872</td>\n",
              "      <td>0.750000</td>\n",
              "      <td>0.771784</td>\n",
              "      <td>1.240000e+02</td>\n",
              "    </tr>\n",
              "    <tr>\n",
              "      <th>30</th>\n",
              "      <td>1.000000</td>\n",
              "      <td>0.769231</td>\n",
              "      <td>0.869565</td>\n",
              "      <td>5.200000e+01</td>\n",
              "    </tr>\n",
              "    <tr>\n",
              "      <th>accuracy</th>\n",
              "      <td>0.715589</td>\n",
              "      <td>0.715589</td>\n",
              "      <td>0.715589</td>\n",
              "      <td>7.155892e-01</td>\n",
              "    </tr>\n",
              "    <tr>\n",
              "      <th>macro avg</th>\n",
              "      <td>0.738568</td>\n",
              "      <td>0.732810</td>\n",
              "      <td>0.728812</td>\n",
              "      <td>1.738885e+06</td>\n",
              "    </tr>\n",
              "    <tr>\n",
              "      <th>weighted avg</th>\n",
              "      <td>0.718549</td>\n",
              "      <td>0.785098</td>\n",
              "      <td>0.746180</td>\n",
              "      <td>1.738885e+06</td>\n",
              "    </tr>\n",
              "  </tbody>\n",
              "</table>\n",
              "</div>\n",
              "      <button class=\"colab-df-convert\" onclick=\"convertToInteractive('df-fc1ba6ae-e71e-4cd3-866a-a73beee66e91')\"\n",
              "              title=\"Convert this dataframe to an interactive table.\"\n",
              "              style=\"display:none;\">\n",
              "        \n",
              "  <svg xmlns=\"http://www.w3.org/2000/svg\" height=\"24px\"viewBox=\"0 0 24 24\"\n",
              "       width=\"24px\">\n",
              "    <path d=\"M0 0h24v24H0V0z\" fill=\"none\"/>\n",
              "    <path d=\"M18.56 5.44l.94 2.06.94-2.06 2.06-.94-2.06-.94-.94-2.06-.94 2.06-2.06.94zm-11 1L8.5 8.5l.94-2.06 2.06-.94-2.06-.94L8.5 2.5l-.94 2.06-2.06.94zm10 10l.94 2.06.94-2.06 2.06-.94-2.06-.94-.94-2.06-.94 2.06-2.06.94z\"/><path d=\"M17.41 7.96l-1.37-1.37c-.4-.4-.92-.59-1.43-.59-.52 0-1.04.2-1.43.59L10.3 9.45l-7.72 7.72c-.78.78-.78 2.05 0 2.83L4 21.41c.39.39.9.59 1.41.59.51 0 1.02-.2 1.41-.59l7.78-7.78 2.81-2.81c.8-.78.8-2.07 0-2.86zM5.41 20L4 18.59l7.72-7.72 1.47 1.35L5.41 20z\"/>\n",
              "  </svg>\n",
              "      </button>\n",
              "      \n",
              "  <style>\n",
              "    .colab-df-container {\n",
              "      display:flex;\n",
              "      flex-wrap:wrap;\n",
              "      gap: 12px;\n",
              "    }\n",
              "\n",
              "    .colab-df-convert {\n",
              "      background-color: #E8F0FE;\n",
              "      border: none;\n",
              "      border-radius: 50%;\n",
              "      cursor: pointer;\n",
              "      display: none;\n",
              "      fill: #1967D2;\n",
              "      height: 32px;\n",
              "      padding: 0 0 0 0;\n",
              "      width: 32px;\n",
              "    }\n",
              "\n",
              "    .colab-df-convert:hover {\n",
              "      background-color: #E2EBFA;\n",
              "      box-shadow: 0px 1px 2px rgba(60, 64, 67, 0.3), 0px 1px 3px 1px rgba(60, 64, 67, 0.15);\n",
              "      fill: #174EA6;\n",
              "    }\n",
              "\n",
              "    [theme=dark] .colab-df-convert {\n",
              "      background-color: #3B4455;\n",
              "      fill: #D2E3FC;\n",
              "    }\n",
              "\n",
              "    [theme=dark] .colab-df-convert:hover {\n",
              "      background-color: #434B5C;\n",
              "      box-shadow: 0px 1px 3px 1px rgba(0, 0, 0, 0.15);\n",
              "      filter: drop-shadow(0px 1px 2px rgba(0, 0, 0, 0.3));\n",
              "      fill: #FFFFFF;\n",
              "    }\n",
              "  </style>\n",
              "\n",
              "      <script>\n",
              "        const buttonEl =\n",
              "          document.querySelector('#df-fc1ba6ae-e71e-4cd3-866a-a73beee66e91 button.colab-df-convert');\n",
              "        buttonEl.style.display =\n",
              "          google.colab.kernel.accessAllowed ? 'block' : 'none';\n",
              "\n",
              "        async function convertToInteractive(key) {\n",
              "          const element = document.querySelector('#df-fc1ba6ae-e71e-4cd3-866a-a73beee66e91');\n",
              "          const dataTable =\n",
              "            await google.colab.kernel.invokeFunction('convertToInteractive',\n",
              "                                                     [key], {});\n",
              "          if (!dataTable) return;\n",
              "\n",
              "          const docLinkHtml = 'Like what you see? Visit the ' +\n",
              "            '<a target=\"_blank\" href=https://colab.research.google.com/notebooks/data_table.ipynb>data table notebook</a>'\n",
              "            + ' to learn more about interactive tables.';\n",
              "          element.innerHTML = '';\n",
              "          dataTable['output_type'] = 'display_data';\n",
              "          await google.colab.output.renderOutput(dataTable, element);\n",
              "          const docLink = document.createElement('div');\n",
              "          docLink.innerHTML = docLinkHtml;\n",
              "          element.appendChild(docLink);\n",
              "        }\n",
              "      </script>\n",
              "    </div>\n",
              "  </div>\n",
              "  "
            ],
            "text/plain": [
              "              precision    recall  f1-score       support\n",
              "43             0.877551  0.767857  0.819048  2.240000e+02\n",
              "96             0.729389  0.860412  0.789501  8.740000e+02\n",
              "11             0.686610  0.593596  0.636724  4.060000e+02\n",
              "25             0.583333  0.368421  0.451613  1.520000e+02\n",
              "116            0.924242  0.762500  0.835616  8.000000e+01\n",
              "8              0.863636  0.351852  0.500000  5.400000e+01\n",
              "135            0.648459  0.823843  0.725705  5.620000e+02\n",
              "80             0.762980  0.761261  0.762120  4.440000e+02\n",
              "48             0.761905  0.691892  0.725212  1.850000e+02\n",
              "137            0.791209  0.610169  0.688995  1.180000e+02\n",
              "40             0.800000  0.595745  0.682927  9.400000e+01\n",
              "10             0.911111  0.863158  0.886486  9.500000e+01\n",
              "44             0.826087  0.850746  0.838235  1.340000e+02\n",
              "133            0.613383  0.657371  0.634615  2.510000e+02\n",
              "53             0.731707  0.588235  0.652174  1.530000e+02\n",
              "42             0.813953  0.760870  0.786517  4.600000e+01\n",
              "13             0.762963  0.664516  0.710345  1.550000e+02\n",
              "144            0.794872  0.750000  0.771784  1.240000e+02\n",
              "30             1.000000  0.769231  0.869565  5.200000e+01\n",
              "accuracy       0.715589  0.715589  0.715589  7.155892e-01\n",
              "macro avg      0.738568  0.732810  0.728812  1.738885e+06\n",
              "weighted avg   0.718549  0.785098  0.746180  1.738885e+06"
            ]
          },
          "metadata": {},
          "execution_count": 181
        }
      ]
    }
  ]
}